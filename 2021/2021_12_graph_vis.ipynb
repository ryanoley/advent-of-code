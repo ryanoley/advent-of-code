{
 "cells": [
  {
   "cell_type": "code",
   "execution_count": 1,
   "metadata": {},
   "outputs": [
    {
     "name": "stderr",
     "output_type": "stream",
     "text": [
      "/Users/roley/.pyenv/versions/3.7.7/envs/abell/lib/python3.7/site-packages/pandas/compat/__init__.py:97: UserWarning: Could not import the lzma module. Your installed Python is incomplete. Attempting to use lzma compression will result in a RuntimeError.\n",
      "  warnings.warn(msg)\n"
     ]
    },
    {
     "data": {
      "text/html": [
       "\n",
       "        <iframe\n",
       "            width=\"100%\"\n",
       "            height=\"750px\"\n",
       "            src=\"network.html\"\n",
       "            frameborder=\"0\"\n",
       "            allowfullscreen\n",
       "        ></iframe>\n",
       "        "
      ],
      "text/plain": [
       "<IPython.lib.display.IFrame at 0x153692790>"
      ]
     },
     "execution_count": 1,
     "metadata": {},
     "output_type": "execute_result"
    }
   ],
   "source": [
    "import numpy as np\n",
    "import pandas as pd\n",
    "\n",
    "import networkx as nx\n",
    "from pyvis.network import Network\n",
    "\n",
    "def draw_graph(G):\n",
    "    net = Network(notebook=True, height=\"750px\", width=\"100%\")\n",
    "    net.from_nx(G)\n",
    "    return net.show(\"network.html\")\n",
    "\n",
    "  \n",
    "\n",
    "\n",
    "inp_path = '/Users/roley/Desktop/advent_of_code/src/12_1_input.txt'\n",
    "with open(inp_path, 'r') as file:\n",
    "    inp_data = file.readlines()\n",
    "\n",
    "inp_data = [tuple(str(x.replace('\\n', '')).split('-')) for x in inp_data]\n",
    "\n",
    "\n",
    "G = nx.Graph()\n",
    "\n",
    "G.add_edges_from(inp_data)\n",
    "\n",
    "draw_graph(G)  "
   ]
  },
  {
   "cell_type": "code",
   "execution_count": 2,
   "metadata": {},
   "outputs": [],
   "source": [
    "def get_next_hop(node, visited, pt2=False):\n",
    "    neighbors = list(G.neighbors(node))\n",
    "    if 'end' in neighbors:\n",
    "        neighbors.remove('end')\n",
    "        neighbors.append('end')\n",
    "\n",
    "    if pt2 and max(visited.values()) <= 1:\n",
    "        visited = {'start':1}\n",
    "\n",
    "    return list(set(neighbors) - set(visited.keys()))\n",
    "\n",
    "\n",
    "def build_paths(current_node, inp_path, inp_visited, all_paths):\n",
    "    path = inp_path.copy()\n",
    "    visited = inp_visited.copy()\n",
    "    path.append(current_node)\n",
    "\n",
    "    if current_node.islower():\n",
    "        if current_node not in visited:\n",
    "            visited[current_node] = 1\n",
    "        else:\n",
    "            visited[current_node] += 1\n",
    "\n",
    "    if current_node == 'end':\n",
    "        all_paths.append(path)\n",
    "        return all_paths\n",
    "\n",
    "    next_hop = get_next_hop(current_node, visited, pt2=True)\n",
    "\n",
    "    for nh in next_hop:\n",
    "        all_paths = build_paths(nh, path, visited, all_paths)\n",
    "\n",
    "    return all_paths\n",
    "\n",
    "paths = build_paths('start', [], {}, [])"
   ]
  },
  {
   "cell_type": "code",
   "execution_count": 4,
   "metadata": {},
   "outputs": [
    {
     "data": {
      "text/plain": [
       "133621"
      ]
     },
     "execution_count": 4,
     "metadata": {},
     "output_type": "execute_result"
    }
   ],
   "source": [
    "len(paths)"
   ]
  },
  {
   "cell_type": "code",
   "execution_count": null,
   "metadata": {},
   "outputs": [],
   "source": []
  }
 ],
 "metadata": {
  "kernelspec": {
   "display_name": "Python 3",
   "language": "python",
   "name": "python3"
  },
  "language_info": {
   "codemirror_mode": {
    "name": "ipython",
    "version": 3
   },
   "file_extension": ".py",
   "mimetype": "text/x-python",
   "name": "python",
   "nbconvert_exporter": "python",
   "pygments_lexer": "ipython3",
   "version": "3.7.7"
  }
 },
 "nbformat": 4,
 "nbformat_minor": 4
}
